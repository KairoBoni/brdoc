{
 "cells": [
  {
   "cell_type": "code",
   "execution_count": 1,
   "metadata": {},
   "outputs": [],
   "source": [
    "doc = open(\"FISICA.TXT\", encoding = \"ISO-8859-1\")\n",
    "text = \"\"\n",
    "jsonT = open(\"docs.json\", 'w+')"
   ]
  },
  {
   "cell_type": "code",
   "execution_count": 2,
   "metadata": {},
   "outputs": [
    {
     "data": {
      "text/plain": [
       "<_io.TextIOWrapper name='FISICA.TXT' mode='r' encoding='ISO-8859-1'>"
      ]
     },
     "execution_count": 2,
     "metadata": {},
     "output_type": "execute_result"
    }
   ],
   "source": [
    "doc"
   ]
  },
  {
   "cell_type": "code",
   "execution_count": 3,
   "metadata": {},
   "outputs": [],
   "source": [
    "lines = doc.readlines()\n",
    "lines = lines[1:150]"
   ]
  },
  {
   "cell_type": "code",
   "execution_count": 4,
   "metadata": {},
   "outputs": [
    {
     "ename": "IndexError",
     "evalue": "string index out of range",
     "output_type": "error",
     "traceback": [
      "\u001b[0;31m---------------------------------------------------------------------------\u001b[0m",
      "\u001b[0;31mIndexError\u001b[0m                                Traceback (most recent call last)",
      "\u001b[0;32m<ipython-input-4-e51f86012cc0>\u001b[0m in \u001b[0;36m<module>\u001b[0;34m()\u001b[0m\n\u001b[0;32m----> 1\u001b[0;31m \u001b[0mtext\u001b[0m\u001b[0;34m[\u001b[0m\u001b[0;34m-\u001b[0m\u001b[0;36m4\u001b[0m\u001b[0;34m]\u001b[0m\u001b[0;34m\u001b[0m\u001b[0m\n\u001b[0m",
      "\u001b[0;31mIndexError\u001b[0m: string index out of range"
     ]
    }
   ],
   "source": [
    "text[-4]"
   ]
  },
  {
   "cell_type": "code",
   "execution_count": 23,
   "metadata": {},
   "outputs": [
    {
     "data": {
      "text/plain": [
       "'100627|ABINOAM PRAXEDES MARQUES JUNIOR           |I|2000-11-22|2010-10-19|LUCAS DO RIO VERDE                   |MT|\\n'"
      ]
     },
     "execution_count": 23,
     "metadata": {},
     "output_type": "execute_result"
    }
   ],
   "source": [
    "lines[148]"
   ]
  },
  {
   "cell_type": "code",
   "execution_count": 6,
   "metadata": {},
   "outputs": [],
   "source": [
    "text +=\"{\\n\"\n",
    "text += '\"docs\" : ['\n",
    "for line in lines:\n",
    "    text+=\"{\\n\"\n",
    "    line = line.split(\"|\")\n",
    "    text +='\"CRM\":\"'+line[0]+'\",\\n'\n",
    "    text +='\"nome\":\"'+line[1].replace('  ', \"\")+'\",\\n'\n",
    "    text +='\"qtd\": 0,\\n'\n",
    "    text += '\"avlist\": [{\"avaliacao\": \"\"}],\\n'\n",
    "    if(line[2] == 'I'):\n",
    "        text +='\"situacao\":\"INATIVO\",\\n'\n",
    "    else:\n",
    "        text +='\"situacao\":\"ATIVO\",\\n'\n",
    "    text +='\"nota\" : 0,\\n'\n",
    "    if(line[2] == \"I\"):\n",
    "        text +='\"dataSaida\":\"'+line[0]+'\",\\n'\n",
    "    else:\n",
    "        text +='\"dataSaida\":null,\\n'\n",
    "    \n",
    "    if(line[5].replace(\" \", \"\") == \"\"):\n",
    "        text +='\"cidade\":\"\",\\n'\n",
    "        text +='\"estado\":\"\",\\n'\n",
    "    else:\n",
    "        text +='\"cidade\":\"'+line[5].replace('  ', \"\")+'\",\\n'\n",
    "        text +='\"estado\":\"'+line[6]+'\",\\n'\n",
    "    if(line[7] == '\\n'):\n",
    "        text +='\"esp\":\"NÃO POSSUI\"\\n'\n",
    "    else:\n",
    "        line[7] = line[7].replace(\"\\n\", \"\")\n",
    "        text +='\"esp\":\"'+line[7].replace('  ', \"\")+'\"'\n",
    "    \n",
    "    if(line[0] == \"100627\"):\n",
    "        text+=\"}\\n\"\n",
    "    else:\n",
    "        text+=\"},\\n\"\n",
    "        \n",
    "\n",
    "text += ']'\n",
    "text +=\"}\"\n",
    "\n"
   ]
  },
  {
   "cell_type": "code",
   "execution_count": 7,
   "metadata": {},
   "outputs": [],
   "source": [
    "import json\n",
    "\n",
    "t = json.loads(text)\n",
    "\n",
    "json.dump(t, jsonT)\n",
    "\n",
    "jsonT.close()"
   ]
  },
  {
   "cell_type": "code",
   "execution_count": 11,
   "metadata": {
    "scrolled": true
   },
   "outputs": [
    {
     "ename": "IndexError",
     "evalue": "list index out of range",
     "output_type": "error",
     "traceback": [
      "\u001b[0;31m---------------------------------------------------------------------------\u001b[0m",
      "\u001b[0;31mIndexError\u001b[0m                                Traceback (most recent call last)",
      "\u001b[0;32m<ipython-input-11-53bea3363a71>\u001b[0m in \u001b[0;36m<module>\u001b[0;34m()\u001b[0m\n\u001b[0;32m----> 1\u001b[0;31m \u001b[0mline\u001b[0m\u001b[0;34m[\u001b[0m\u001b[0;36m149\u001b[0m\u001b[0;34m]\u001b[0m\u001b[0;34m\u001b[0m\u001b[0m\n\u001b[0m",
      "\u001b[0;31mIndexError\u001b[0m: list index out of range"
     ]
    }
   ],
   "source": [
    "line[149]"
   ]
  },
  {
   "cell_type": "code",
   "execution_count": 9,
   "metadata": {},
   "outputs": [
    {
     "ename": "IndexError",
     "evalue": "list index out of range",
     "output_type": "error",
     "traceback": [
      "\u001b[0;31m---------------------------------------------------------------------------\u001b[0m",
      "\u001b[0;31mIndexError\u001b[0m                                Traceback (most recent call last)",
      "\u001b[0;32m<ipython-input-9-b56571849b82>\u001b[0m in \u001b[0;36m<module>\u001b[0;34m()\u001b[0m\n\u001b[0;32m----> 1\u001b[0;31m \u001b[0mline\u001b[0m\u001b[0;34m[\u001b[0m\u001b[0;36m1175\u001b[0m\u001b[0;34m]\u001b[0m\u001b[0;34m\u001b[0m\u001b[0m\n\u001b[0m",
      "\u001b[0;31mIndexError\u001b[0m: list index out of range"
     ]
    }
   ],
   "source": [
    "line[1175]"
   ]
  },
  {
   "cell_type": "code",
   "execution_count": null,
   "metadata": {},
   "outputs": [],
   "source": []
  }
 ],
 "metadata": {
  "kernelspec": {
   "display_name": "Python 3",
   "language": "python",
   "name": "python3"
  },
  "language_info": {
   "codemirror_mode": {
    "name": "ipython",
    "version": 3
   },
   "file_extension": ".py",
   "mimetype": "text/x-python",
   "name": "python",
   "nbconvert_exporter": "python",
   "pygments_lexer": "ipython3",
   "version": "3.6.5"
  }
 },
 "nbformat": 4,
 "nbformat_minor": 2
}
